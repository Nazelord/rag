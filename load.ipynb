{
 "cells": [
  {
   "cell_type": "code",
   "execution_count": 12,
   "metadata": {},
   "outputs": [],
   "source": [
    "from dotenv import load_dotenv\n",
    "\n",
    "load_dotenv()\n",
    "\n",
    "import os\n",
    "import groq\n",
    "from groq import Groq\n",
    "from pinecone import Pinecone, ServerlessSpec"
   ]
  },
  {
   "cell_type": "code",
   "execution_count": 13,
   "metadata": {},
   "outputs": [],
   "source": [
    "pc = Pinecone(api_key=os.getenv(\"PINECONE_API_KEY\"))\n",
    "pc.create_index(name = \"rag\", dimension =1536, metric = \"cosine\", spec=ServerlessSpec(cloud=\"aws\", region=\"us-east-1\"))"
   ]
  },
  {
   "cell_type": "code",
   "execution_count": 14,
   "metadata": {},
   "outputs": [
    {
     "data": {
      "text/plain": [
       "[{'professor': 'Dr. Emily Sharma',\n",
       "  'subject': 'Introduction to Computer Science',\n",
       "  'stars': 4,\n",
       "  'review': 'Dr. Sharma is an excellent professor who really makes the material engaging and understandable. Her lectures are well-organized and she is always available to help during office hours.'},\n",
       " {'professor': 'Professor John Williams',\n",
       "  'subject': 'Organic Chemistry',\n",
       "  'stars': 3,\n",
       "  'review': \"Professor Williams' class is quite challenging, but he is willing to work with students who put in the effort. The course material is dense, but his explanations and problem sets are helpful.\"},\n",
       " {'professor': 'Dr. Olivia Hernandez',\n",
       "  'subject': 'Introduction to Psychology',\n",
       "  'stars': 5,\n",
       "  'review': \"Dr. Hernandez is an amazing professor who truly cares about her students' learning. Her lectures are captivating, and she is always willing to answer questions and provide extra support. I would highly recommend taking her class.\"},\n",
       " {'professor': 'Professor Michael Chen',\n",
       "  'subject': 'Calculus I',\n",
       "  'stars': 2,\n",
       "  'review': \"I found Professor Chen's teaching style to be quite dry and difficult to follow. The grading is also very strict, and he doesn't provide much guidance or feedback. I struggled a lot in this class.\"},\n",
       " {'professor': 'Dr. Sarah Goldstein',\n",
       "  'subject': 'Introduction to Art History',\n",
       "  'stars': 4,\n",
       "  'review': 'Dr. Goldstein is a passionate and knowledgeable professor who brings the history of art to life. Her lectures are engaging, and she encourages students to think critically about the subject matter. I really enjoyed this course.'},\n",
       " {'professor': 'Professor David Lee',\n",
       "  'subject': 'Principles of Marketing',\n",
       "  'stars': 3,\n",
       "  'review': \"Professor Lee's class is fairly straightforward, but he can be somewhat disorganized at times. The workload is manageable, and he is generally helpful during office hours, but the lectures could be more engaging.\"},\n",
       " {'professor': 'Dr. Isabelle Roux',\n",
       "  'subject': 'French Language and Culture',\n",
       "  'stars': 5,\n",
       "  'review': 'Dr. Roux is an exceptional professor who creates a welcoming and supportive environment in her language classes. Her lessons are well-structured, and she provides ample opportunities for students to practice speaking and writing in French. I highly recommend this course.'},\n",
       " {'professor': 'Professor Ahmed Malik',\n",
       "  'subject': 'Introduction to Engineering',\n",
       "  'stars': 4,\n",
       "  'review': 'Professor Malik is a knowledgeable and enthusiastic instructor who makes the course material engaging and accessible. The class workload is reasonable, and he is always available to provide extra help or guidance.'},\n",
       " {'professor': 'Dr. Sophia Nguyen',\n",
       "  'subject': 'Developmental Psychology',\n",
       "  'stars': 4,\n",
       "  'review': \"Dr. Nguyen's lectures are informative and thought-provoking. She encourages class discussions and provides valuable insights into the field of developmental psychology. The workload is manageable, and she is willing to work with students to help them succeed.\"},\n",
       " {'professor': 'Professor Liam Fitzgerald',\n",
       "  'subject': 'Introduction to Biology',\n",
       "  'stars': 3,\n",
       "  'review': \"Professor Fitzgerald's class is quite challenging, and he can be somewhat unapproachable at times. The material is dense, and the grading can be quite strict. However, the labs are well-organized, and the content is interesting.\"},\n",
       " {'professor': 'Dr. Ava Morales',\n",
       "  'subject': 'Principles of Economics',\n",
       "  'stars': 4,\n",
       "  'review': 'Dr. Morales is a knowledgeable and engaging professor who makes the complex topics of economics understandable. Her lectures are well-structured, and she provides useful examples to illustrate key concepts. The course workload is reasonable, and she is always available to answer questions.'},\n",
       " {'professor': 'Professor Ethan Goldberg',\n",
       "  'subject': 'Introduction to Environmental Science',\n",
       "  'stars': 5,\n",
       "  'review': 'Professor Goldberg is an exceptional instructor who is passionate about environmental issues. His lectures are informative and thought-provoking, and he encourages students to think critically about the challenges facing our planet. The course material is relevant and engaging, and I would highly recommend this class.'},\n",
       " {'professor': 'Dr. Natalie Ramirez',\n",
       "  'subject': 'Introductory Sociology',\n",
       "  'stars': 4,\n",
       "  'review': \"Dr. Ramirez's class is well-organized and informative. She presents the material in a clear and engaging way, and she is always willing to answer questions and provide additional resources. The workload is manageable, and I found the course content to be quite interesting.\"},\n",
       " {'professor': 'Professor William Jackson',\n",
       "  'subject': 'Principles of Management',\n",
       "  'stars': 3,\n",
       "  'review': \"Professor Jackson's class is fairly straightforward, but he can be somewhat disengaged during lectures. The course material is relevant, but the delivery could be more dynamic. The grading is reasonable, but he doesn't always provide timely feedback.\"},\n",
       " {'professor': 'Dr. Elise Tanaka',\n",
       "  'subject': 'Introduction to East Asian Studies',\n",
       "  'stars': 5,\n",
       "  'review': 'Dr. Tanaka is an exceptional professor who brings a wealth of knowledge and enthusiasm to her classes. Her lectures are engaging and thought-provoking, and she encourages students to explore diverse perspectives on the subject matter. I found this course to be both informative and enjoyable.'},\n",
       " {'professor': 'Professor Olivia Chen',\n",
       "  'subject': 'Principles of Accounting',\n",
       "  'stars': 4,\n",
       "  'review': 'Professor Chen is a knowledgeable and approachable instructor who makes the challenging subject of accounting more accessible. Her lectures are well-organized, and she provides ample opportunities for students to practice the concepts. The workload is manageable, and she is always willing to offer extra help or guidance.'},\n",
       " {'professor': 'Dr. Liam Gonzalez',\n",
       "  'subject': 'Introduction to Political Science',\n",
       "  'stars': 4,\n",
       "  'review': 'Dr. Gonzalez is a passionate and engaging professor who brings a wealth of knowledge to the subject of political science. His lectures are thought-provoking, and he encourages lively class discussions. The course material is relevant and challenging, and I found it to be a rewarding learning experience.'},\n",
       " {'professor': 'Professor Isabelle Martinez',\n",
       "  'subject': 'Principles of Finance',\n",
       "  'stars': 3,\n",
       "  'review': \"Professor Martinez's class is quite challenging, and the material can be dry at times. The lectures are sometimes disorganized, and she doesn't always provide clear explanations. However, the course content is relevant, and she is generally available to answer questions during office hours.\"},\n",
       " {'professor': 'Dr. Ethan Diaz',\n",
       "  'subject': 'Introduction to Neuroscience',\n",
       "  'stars': 5,\n",
       "  'review': \"Dr. Diaz is an exceptional professor who truly cares about his students' learning. His lectures are engaging and informative, and he provides ample opportunities for hands-on learning and discussion. The course workload is manageable, and he is always willing to offer additional support or guidance. I highly recommend this class.\"},\n",
       " {'professor': 'Professor Sophia Rios',\n",
       "  'subject': 'Principles of Human Resources Management',\n",
       "  'stars': 4,\n",
       "  'review': 'Professor Rios is a knowledgeable and organized instructor who makes the course material accessible. Her lectures are clear and concise, and she provides relevant examples to illustrate key concepts. The workload is reasonable, and she is available to answer questions during office hours.'},\n",
       " {'professor': 'Dr. Michael Gomez',\n",
       "  'subject': 'Introduction to Philosophy',\n",
       "  'stars': 4,\n",
       "  'review': 'Dr. Gomez is a thoughtful and engaging professor who encourages students to think critically about philosophical ideas. His lectures are well-structured, and he provides opportunities for class discussions and group activities. The course content is challenging but rewarding, and I found this class to be a valuable learning experience.'}]"
      ]
     },
     "execution_count": 14,
     "metadata": {},
     "output_type": "execute_result"
    }
   ],
   "source": [
    "import json\n",
    "\n",
    "data = json.load(open(\"reviews.json\"))\n",
    "data['reviews']\n"
   ]
  },
  {
   "cell_type": "code",
   "execution_count": null,
   "metadata": {},
   "outputs": [],
   "source": [
    "processed_data = []\n",
    "client = Groq()\n",
    "\n",
    "for review in data['reviews']:\n",
    "    response = client.embeddings.create(input = review['review'],\n",
    "    model=\"\")"
   ]
  }
 ],
 "metadata": {
  "kernelspec": {
   "display_name": "Python 3",
   "language": "python",
   "name": "python3"
  },
  "language_info": {
   "codemirror_mode": {
    "name": "ipython",
    "version": 3
   },
   "file_extension": ".py",
   "mimetype": "text/x-python",
   "name": "python",
   "nbconvert_exporter": "python",
   "pygments_lexer": "ipython3",
   "version": "3.12.5"
  }
 },
 "nbformat": 4,
 "nbformat_minor": 2
}
